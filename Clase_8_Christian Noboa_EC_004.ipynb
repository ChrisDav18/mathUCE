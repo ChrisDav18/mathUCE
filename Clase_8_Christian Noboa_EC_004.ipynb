{
  "nbformat": 4,
  "nbformat_minor": 0,
  "metadata": {
    "colab": {
      "provenance": [],
      "toc_visible": true,
      "include_colab_link": true
    },
    "kernelspec": {
      "name": "python3",
      "display_name": "Python 3"
    },
    "language_info": {
      "name": "python"
    }
  },
  "cells": [
    {
      "cell_type": "markdown",
      "metadata": {
        "id": "view-in-github",
        "colab_type": "text"
      },
      "source": [
        "<a href=\"https://colab.research.google.com/github/ChrisDav18/mathUCE/blob/main/Clase_8_Christian%20Noboa_EC_004.ipynb\" target=\"_parent\"><img src=\"https://colab.research.google.com/assets/colab-badge.svg\" alt=\"Open In Colab\"/></a>"
      ]
    },
    {
      "cell_type": "markdown",
      "source": [
        "# 📚 ***Grupo 3: Clase 8***\n",
        "\n"
      ],
      "metadata": {
        "id": "wSbFgix2iQPg"
      }
    },
    {
      "cell_type": "markdown",
      "source": [
        "\n",
        "  - ***Integrantes y roles:***\n",
        "    -  *Coordinador y Editor general del Notebook:*  **Roberto Ordoñez**\n",
        "    - *Parte 1:* **Juan Felipe Yazán y Alan Moreno**\n",
        "    - *Parte 2:* **Cristian Noboa y Kevin Camacho**\n",
        "    - *Preguntas:* **Jordy Romero**\n"
      ],
      "metadata": {
        "id": "2MaP6eNGkG6M"
      }
    },
    {
      "cell_type": "markdown",
      "source": [
        "#🏗️🐍 ***Tema 1 del día:  Estructuras de control en Python***"
      ],
      "metadata": {
        "id": "tRmC6ii3ee1B"
      }
    },
    {
      "cell_type": "markdown",
      "source": [
        "Las estructuras de control en Python son fundamentales para dirigir el flujo de ejecución de un programa. Estas estructuras permiten tomar decisiones, repetir operaciones y controlar el proceso de ejecución en función de diversas condiciones. A continuación, se presentan las principales estructuras de control en Python, explicadas con mayor detalle y ejemplos prácticos."
      ],
      "metadata": {
        "id": "5I_YiqJOLgs4"
      }
    },
    {
      "cell_type": "markdown",
      "source": [
        "## 🌟 ***Condicionales: `if`, `elif`, `else`***\n",
        "\n",
        "Las declaraciones condicionales permiten ejecutar bloques de código basados en ciertas condiciones. Estas declaraciones son esenciales para la toma de decisiones en el programa.\n",
        "\n",
        "- **`if`**: Ejecuta un bloque de código si la condición es verdadera.\n",
        "- **`elif`**: **(else if)** Permite comprobar múltiples condiciones si la condición inicial es falsa.\n",
        "- **`else`**: Ejecuta un bloque de código si todas las condiciones anteriores son falsas."
      ],
      "metadata": {
        "id": "4qPF0NQdLi9y"
      }
    },
    {
      "cell_type": "markdown",
      "source": [
        "### **🔍 Ejemplo de uso:**"
      ],
      "metadata": {
        "id": "b7sb_-2ILuvV"
      }
    },
    {
      "cell_type": "code",
      "source": [
        "edad = 18\n",
        "if edad < 18:\n",
        "    print(\"Menor de edad\")\n",
        "elif edad >= 18:\n",
        "    print(\"Mayor de edad\")\n",
        "else:\n",
        "    print(\"Este código nunca se ejecutará\")"
      ],
      "metadata": {
        "colab": {
          "base_uri": "https://localhost:8080/"
        },
        "id": "qpCiBCxfLx74",
        "outputId": "0f6fd60b-37a6-40b8-9abc-a39fa80d5a66"
      },
      "execution_count": null,
      "outputs": [
        {
          "output_type": "stream",
          "name": "stdout",
          "text": [
            "Mayor de edad\n"
          ]
        }
      ]
    },
    {
      "cell_type": "markdown",
      "source": [
        "## ***🌀 Bucles en Python: `for` y `while`***\n",
        "\n",
        "Los bucles son estructuras fundamentales en la programación que permiten ejecutar repetidamente un bloque de código hasta que se cumpla una condición específica. En Python, los dos tipos principales de bucles son `for` y `while`."
      ],
      "metadata": {
        "id": "Fcni_akEL25q"
      }
    },
    {
      "cell_type": "markdown",
      "source": [
        "### **📜 Bucle `for`**\n",
        "\n",
        "El bucle `for` se utiliza para iterar sobre una secuencia, como una lista, tupla, diccionario, conjunto o cadena. Este bucle es muy útil cuando se necesita recorrer todos los elementos de una colección.\n"
      ],
      "metadata": {
        "id": "DF6o4RY2L6YA"
      }
    },
    {
      "cell_type": "markdown",
      "source": [
        "#### **✨ Ejemplo de bucle `for` con una lista de frutas**"
      ],
      "metadata": {
        "id": "ydFmgrsRL_Jl"
      }
    },
    {
      "cell_type": "code",
      "source": [
        "frutas = [\"manzana\", \"banana\", \"cereza\"]\n",
        "\n",
        "# Iterar sobre cada fruta en la lista\n",
        "for fruta in frutas:\n",
        "    print(fruta)"
      ],
      "metadata": {
        "colab": {
          "base_uri": "https://localhost:8080/"
        },
        "id": "l0wAsvCEMANn",
        "outputId": "1f3a01a6-9283-45f2-f843-76d18601e856"
      },
      "execution_count": null,
      "outputs": [
        {
          "output_type": "stream",
          "name": "stdout",
          "text": [
            "manzana\n",
            "banana\n",
            "cereza\n"
          ]
        }
      ]
    },
    {
      "cell_type": "markdown",
      "source": [
        "En este ejemplo, el bucle for recorre cada elemento en la lista frutas y lo imprime. La salida será:"
      ],
      "metadata": {
        "id": "nGSPhH6OMEwH"
      }
    },
    {
      "cell_type": "code",
      "source": [
        "\n",
        "# ```\n",
        "# manzana\n",
        "# banana\n",
        "# cereza\n",
        "# ```"
      ],
      "metadata": {
        "id": "Qd6krEqjMID7"
      },
      "execution_count": null,
      "outputs": []
    },
    {
      "cell_type": "markdown",
      "source": [
        "### **📜 Bucle `while`**\n",
        "\n",
        "El bucle `while` se ejecuta mientras una condición sea verdadera. Este tipo de bucle es útil cuando no se sabe de antemano cuántas veces se debe ejecutar el bloque de código."
      ],
      "metadata": {
        "id": "1qqKPluEMKva"
      }
    },
    {
      "cell_type": "markdown",
      "source": [
        "#### **✨ Ejemplo de bucle `while` con un contador**"
      ],
      "metadata": {
        "id": "XMktZJA6MOrk"
      }
    },
    {
      "cell_type": "code",
      "source": [
        "# Inicializar el contador\n",
        "contador = 0\n",
        "\n",
        "# Ejecutar el bucle mientras la condición sea verdadera\n",
        "while contador < 3:\n",
        "    print(\"Dentro del bucle\")\n",
        "    contador += 1"
      ],
      "metadata": {
        "colab": {
          "base_uri": "https://localhost:8080/"
        },
        "id": "HL7KPUydMQ5v",
        "outputId": "d5bfe0a7-12e2-4a0f-b033-a15cacab7981"
      },
      "execution_count": null,
      "outputs": [
        {
          "output_type": "stream",
          "name": "stdout",
          "text": [
            "Dentro del bucle\n",
            "Dentro del bucle\n",
            "Dentro del bucle\n"
          ]
        }
      ]
    },
    {
      "cell_type": "markdown",
      "source": [
        "En este ejemplo, el bucle `while` se ejecuta mientras el valor de `contador` sea menor que 3. Cada vez que se ejecuta el bucle, se imprime el mensaje \"Dentro del bucle\" y se incrementa el valor de `contador` en 1. La salida será:"
      ],
      "metadata": {
        "id": "VLeHC__IMTAi"
      }
    },
    {
      "cell_type": "markdown",
      "source": [
        "## ***Declaraciones de Control de Bucles: break y continue 🔄***\n",
        "\n",
        "En Python, las declaraciones break y continue son fundamentales para controlar el flujo de ejecución dentro de bucles."
      ],
      "metadata": {
        "id": "ix7FxY4IMY4V"
      }
    },
    {
      "cell_type": "markdown",
      "source": [
        "### **🛑 `break`**\n",
        "\n",
        "Termina el bucle actual inmediatamente y continúa con la ejecución del código después del bucle. Se utiliza cuando se alcanza una condición que requiere salir del bucle sin completar todas las iteraciones previstas."
      ],
      "metadata": {
        "id": "f11nrjB1Mis3"
      }
    },
    {
      "cell_type": "markdown",
      "source": [
        "\n",
        "\n",
        "#### **🔍 Ejemplo de `break`:**"
      ],
      "metadata": {
        "id": "x9B2drrbMlTU"
      }
    },
    {
      "cell_type": "code",
      "source": [
        "# Ejemplo de break:\n",
        "print(\"Ejemplo de break:\")\n",
        "for i in range(1, 6):\n",
        "    if i == 3:\n",
        "        print(f\"Se encontró el número 3. Terminando el bucle.\")\n",
        "        break  # Termina el bucle cuando i es igual a 3\n",
        "    print(f\"Iteración {i}\")\n",
        "print(\"Fin del ejemplo de break.\\n\")"
      ],
      "metadata": {
        "colab": {
          "base_uri": "https://localhost:8080/"
        },
        "id": "GiKNytVgMn_T",
        "outputId": "f9ea0b18-d096-41cf-f61e-3a99e2d9c4a4"
      },
      "execution_count": null,
      "outputs": [
        {
          "output_type": "stream",
          "name": "stdout",
          "text": [
            "Ejemplo de break:\n",
            "Iteración 1\n",
            "Iteración 2\n",
            "Se encontró el número 3. Terminando el bucle.\n",
            "Fin del ejemplo de break.\n",
            "\n"
          ]
        }
      ]
    },
    {
      "cell_type": "markdown",
      "source": [
        "### **🛑 `continue`**\n",
        "Salta a la siguiente iteración del bucle, omitiendo cualquier código que reste por ejecutar en el cuerpo del bucle para esa iteración específica. Se utiliza para saltar ciertas iteraciones basadas en condiciones específicas sin terminar el bucle por completo."
      ],
      "metadata": {
        "id": "N9NQJFKeMqnb"
      }
    },
    {
      "cell_type": "markdown",
      "source": [
        "#### **🔍 Ejemplo de `continue`:**"
      ],
      "metadata": {
        "id": "V9asOByOMxjE"
      }
    },
    {
      "cell_type": "code",
      "source": [
        "# Ejemplo de continue:\n",
        "print(\"Ejemplo de continue:\")\n",
        "for i in range(1, 6):\n",
        "    if i == 3:\n",
        "        print(f\"Se encontró el número 3. Saltando esta iteración.\")\n",
        "        continue  # Salta la iteración cuando i es igual a 3\n",
        "    print(f\"Iteración {i}\")\n",
        "print(\"Fin del ejemplo de continue.\")"
      ],
      "metadata": {
        "colab": {
          "base_uri": "https://localhost:8080/"
        },
        "id": "OF_TbmVCMyJ3",
        "outputId": "fce23281-7d39-45aa-da69-99ca83cae740"
      },
      "execution_count": null,
      "outputs": [
        {
          "output_type": "stream",
          "name": "stdout",
          "text": [
            "Ejemplo de continue:\n",
            "Iteración 1\n",
            "Iteración 2\n",
            "Se encontró el número 3. Saltando esta iteración.\n",
            "Iteración 4\n",
            "Iteración 5\n",
            "Fin del ejemplo de continue.\n"
          ]
        }
      ]
    },
    {
      "cell_type": "markdown",
      "source": [
        "## ***🧩 Comprensiones de Listas***\n",
        "\n",
        "Las comprensiones de listas proporcionan una manera concisa y eficiente de crear y manipular listas en Python.\n",
        "Nos permiten generar nuevas listas aplicando una expresión a cada elemento de una secuencia existente."
      ],
      "metadata": {
        "id": "c0nt0YYuM2-5"
      }
    },
    {
      "cell_type": "markdown",
      "source": [
        "### **✨ Ejemplo de Comprensión de Lista para Cuadrados**"
      ],
      "metadata": {
        "id": "JEWCl0C1M65q"
      }
    },
    {
      "cell_type": "code",
      "source": [
        "# Utilizaremos una comprensión de lista para calcular los cuadrados de los números del 1 al 5.\n",
        "nums = [1, 2, 3, 4, 5]\n",
        "squares = [x**2 for x in nums]\n",
        "\n",
        "print(\"Números originales:\", nums)\n",
        "print(\"Cuadrados de los números:\", squares)"
      ],
      "metadata": {
        "colab": {
          "base_uri": "https://localhost:8080/"
        },
        "id": "vjP3VmyuNAwu",
        "outputId": "7c82639e-8cf4-4df8-be2c-7972c2f5b5df"
      },
      "execution_count": null,
      "outputs": [
        {
          "output_type": "stream",
          "name": "stdout",
          "text": [
            "Números originales: [1, 2, 3, 4, 5]\n",
            "Cuadrados de los números: [1, 4, 9, 16, 25]\n"
          ]
        }
      ]
    },
    {
      "cell_type": "markdown",
      "source": [
        "## ***🛠️ Control de Flujo: `break`, `continue`, `pass`***\n",
        "\n",
        "En Python, el control de flujo es fundamental para manejar la ejecución de bloques de código según ciertas condiciones. Aquí explicamos tres declaraciones clave: **`break`, `continue` y `pass`**.\n"
      ],
      "metadata": {
        "id": "rKKm2e0lNC_E"
      }
    },
    {
      "cell_type": "markdown",
      "source": [
        "### **🌟 Explorando `break`**\n",
        "La declaración `break` se utiliza para terminar el bucle más cercano de manera inmediata."
      ],
      "metadata": {
        "id": "ECMKRON3NGHv"
      }
    },
    {
      "cell_type": "markdown",
      "source": [
        " #### **🔍 Ejemplo con `break`**"
      ],
      "metadata": {
        "id": "GCV7Mb6bNKt3"
      }
    },
    {
      "cell_type": "code",
      "source": [
        "for numero in range(10):\n",
        "    if numero == 5:\n",
        "        break  # ⛔ Detiene el bucle cuando `numero` es 5\n",
        "    print(numero)"
      ],
      "metadata": {
        "colab": {
          "base_uri": "https://localhost:8080/"
        },
        "id": "TGS9i5ZyNMvw",
        "outputId": "70353440-320e-4f56-aa9e-bf26e2ca8da2"
      },
      "execution_count": null,
      "outputs": [
        {
          "output_type": "stream",
          "name": "stdout",
          "text": [
            "0\n",
            "1\n",
            "2\n",
            "3\n",
            "4\n"
          ]
        }
      ]
    },
    {
      "cell_type": "markdown",
      "source": [
        "✨ En este código, el bucle se interrumpe cuando `numero` llega a 5, y no se imprimen los números posteriores."
      ],
      "metadata": {
        "id": "xjc3EiqaNOw2"
      }
    },
    {
      "cell_type": "markdown",
      "source": [
        "### **🌟 Explorando `continue`**\n",
        "La declaración `continue` omite el resto del código dentro del bucle y pasa a la siguiente iteración."
      ],
      "metadata": {
        "id": "WeefWzH2NR5M"
      }
    },
    {
      "cell_type": "markdown",
      "source": [
        "#### **🔍  Ejemplo con `continue`**"
      ],
      "metadata": {
        "id": "4mf0POV3NfEM"
      }
    },
    {
      "cell_type": "code",
      "source": [
        "for numero in range(10):\n",
        "    if numero % 2 == 0:\n",
        "        continue  # ↩️ Salta el resto del código dentro del bucle para números pares\n",
        "    print(numero)"
      ],
      "metadata": {
        "colab": {
          "base_uri": "https://localhost:8080/"
        },
        "id": "mqGNO9owNhoC",
        "outputId": "26eeae82-a6c6-4833-8363-f2b9f9b64229"
      },
      "execution_count": null,
      "outputs": [
        {
          "output_type": "stream",
          "name": "stdout",
          "text": [
            "1\n",
            "3\n",
            "5\n",
            "7\n",
            "9\n"
          ]
        }
      ]
    },
    {
      "cell_type": "markdown",
      "source": [
        "✨ En este ejemplo, solo se imprimen los números impares, ya que los pares se omiten."
      ],
      "metadata": {
        "id": "NGkyp_h7NjTs"
      }
    },
    {
      "cell_type": "markdown",
      "source": [
        "### **🌟 Explorando `pass`**\n",
        "La declaración `pass` se utiliza como un marcador de posición en el código. No tiene ningún efecto y permite que el código sea sintácticamente correcto."
      ],
      "metadata": {
        "id": "-OO8VndONmjU"
      }
    },
    {
      "cell_type": "markdown",
      "source": [
        "#### **🔍  Ejemplo con `pass`**"
      ],
      "metadata": {
        "id": "EItjkPVCNsDc"
      }
    },
    {
      "cell_type": "code",
      "source": [
        "for numero in range(5):\n",
        "    if numero == 3:\n",
        "        pass  # 🔸 `pass` no hace nada y simplemente actúa como un marcador de posición\n",
        "    print(numero)"
      ],
      "metadata": {
        "colab": {
          "base_uri": "https://localhost:8080/"
        },
        "id": "B7TQvGOmNuWh",
        "outputId": "0bf25df3-4fbd-4db9-ae88-805ac1f5f448"
      },
      "execution_count": null,
      "outputs": [
        {
          "output_type": "stream",
          "name": "stdout",
          "text": [
            "0\n",
            "1\n",
            "2\n",
            "3\n",
            "4\n"
          ]
        }
      ]
    },
    {
      "cell_type": "markdown",
      "source": [
        "✨ En este código, `pass` no afecta la ejecución, y todos los números se imprimen, incluido el 3."
      ],
      "metadata": {
        "id": "N8Tc0cbQNxU3"
      }
    },
    {
      "cell_type": "markdown",
      "source": [
        "---\n",
        "\n",
        "Estas estructuras de control son los bloques básicos que permiten a los desarrolladores de Python escribir código flexible y eficiente. Al utilizar de forma inteligente estas estructuras, se pueden resolver problemas complejos de manera efectiva y crear programas más dinámicos e interactivos.\n"
      ],
      "metadata": {
        "id": "E4RHWZMjNz1K"
      }
    },
    {
      "cell_type": "markdown",
      "source": [
        "## **🚀 Resumen 🚀**\n",
        "\n",
        "\n",
        "- **Condicionales** (`if`, `elif`, `else`): 🛑 Para tomar decisiones basadas en condiciones.\n",
        "- **Bucles** (`for`, `while`): 🔄 Para repetir operaciones de manera eficiente.\n",
        "- **Comprensiones de Listas**: 📜 Para crear y manipular listas de manera concisa y elegante.\n",
        "- **Control de Flujo** (`break`, `continue`, `pass`): 🚦 Para manejar la ejecución dentro de los bucles de forma precisa.\n",
        "\n",
        "Estas herramientas permiten crear soluciones elegantes y eficientes en Python, adecuadas para una amplia variedad de aplicaciones y problemas. 🚀\n"
      ],
      "metadata": {
        "id": "j9BQ41zjN3Hl"
      }
    },
    {
      "cell_type": "markdown",
      "source": [
        "#  🔢 ***Tema 2 video/Miro: Demostraciones Matemáticas y Nociones de Distancia***"
      ],
      "metadata": {
        "id": "B3_FETRph9DR"
      }
    },
    {
      "cell_type": "markdown",
      "source": [
        "## 🧮 **Leyes de De Morgan en Teoría de Conjuntos**\n",
        "\n",
        "Sea $\\Omega$ un conjunto y $\\{A_i\\}_{i \\in \\mathbb{N}}$ una familia de subconjuntos contenidos en $\\Omega$. Queremos demostrar las leyes de De Morgan:\n",
        "\n",
        "$ \\left( \\bigcup_{i \\in \\mathbb{N}} A_i \\right)^c = \\bigcap_{i \\in \\mathbb{N}} A_i^c $\n",
        "\n",
        "**La demostración se realiza mediante la doble contención:**\n",
        "\n",
        "### 1️⃣ **Primera parte: Mostrar que** $ \\left( \\bigcup_{i \\in \\mathbb{N}} A_i \\right)^c \\subseteq \\bigcap_{i \\in \\mathbb{N}} A_i^c $\n",
        "\n",
        "- Tomamos un $x \\in \\left( \\bigcup_{i \\in \\mathbb{N}} A_i \\right)^c$.\n",
        "- Sabemos que $\\bigcup_{i \\in \\mathbb{N}} A_i = \\{ x \\in \\Omega \\mid \\exists i \\in \\mathbb{N}, x \\in A_i \\}$.\n",
        "- Entonces, $x \\notin \\bigcup_{i \\in \\mathbb{N}} A_i$.\n",
        "- Por lo tanto, $x \\in \\left( \\bigcup_{i \\in \\mathbb{N}} A_i \\right)^c = \\{ x \\in \\Omega \\mid \\forall i \\in \\mathbb{N}, x \\notin A_i \\}$.\n",
        "- Lo que significa que $x \\in \\{ x \\in \\Omega \\mid \\forall i \\in \\mathbb{N}, x \\in A_i^c \\} = \\bigcap_{i \\in \\mathbb{N}} A_i^c$.\n",
        "- Hemos mostrado que $\\left( \\bigcup_{i \\in \\mathbb{N}} A_i \\right)^c \\subseteq \\bigcap_{i \\in \\mathbb{N}} A_i^c$.\n",
        "\n",
        "### 2️⃣ **Segunda parte: Mostrar que** $ \\bigcap_{i \\in \\mathbb{N}} A_i^c \\subseteq \\left( \\bigcup_{i \\in \\mathbb{N}} A_i \\right)^c $\n",
        "\n",
        "- Tomamos un $x \\in \\bigcap_{i \\in \\mathbb{N}} A_i^c$.\n",
        "- Sabemos que $\\bigcap_{i \\in \\mathbb{N}} A_i^c = \\{ x \\in \\Omega \\mid \\forall i \\in \\mathbb{N}, x \\in A_i^c \\}$.\n",
        "- Entonces, $\\forall i \\in \\mathbb{N}, x \\notin A_i$.\n",
        "- Lo que significa que $x \\notin \\bigcup_{i \\in \\mathbb{N}} A_i = \\{ x \\in \\Omega \\mid \\exists i \\in \\mathbb{N}, x \\in A_i \\}$.\n",
        "- Por lo tanto, $x \\in \\left( \\bigcup_{i \\in \\mathbb{N}} A_i \\right)^c$.\n",
        "- Hemos mostrado que $\\bigcap_{i \\in \\mathbb{N}} A_i^c \\subseteq \\left( \\bigcup_{i \\in \\mathbb{N}} A_i \\right)^c$.\n",
        "\n",
        "**Concluimos que:**\n",
        "\n",
        "$ \\left( \\bigcup_{i \\in \\mathbb{N}} A_i \\right)^c = \\bigcap_{i \\in \\mathbb{N}} A_i^c $\n",
        "\n",
        "## 🔄 **Para la segunda ley de De Morgan:**\n",
        "\n",
        "$ \\left( \\bigcap_{i \\in \\mathbb{N}} A_i \\right)^c = \\bigcup_{i \\in \\mathbb{N}} A_i^c $\n",
        "\n",
        "**El procedimiento es similar y se deja como ejercicio:**\n",
        "\n",
        "1. **Primera parte: Mostrar que** $\\left( \\bigcap_{i \\in \\mathbb{N}} A_i \\right)^c \\subseteq \\bigcup_{i \\in \\mathbb{N}} A_i^c$\n",
        "2. **Segunda parte: Mostrar que** $\\bigcup_{i \\in \\mathbb{N}} A_i^c \\subseteq \\left( \\bigcap_{i \\in \\mathbb{N}} A_i \\right)^c$\n",
        "\n",
        "**Concluyendo que:**\n",
        "\n",
        "$ \\left( \\bigcap_{i \\in \\mathbb{N}} A_i \\right)^c = \\bigcup_{i \\in \\mathbb{N}} A_i^c $\n",
        "\n"
      ],
      "metadata": {
        "id": "TH8HaZhHCorP"
      }
    },
    {
      "cell_type": "markdown",
      "source": [
        "## 🔄 Primera y Segunda Ley de Morgan - Graficamente"
      ],
      "metadata": {
        "id": "AYoPHL5IHr4k"
      }
    },
    {
      "cell_type": "code",
      "source": [
        "import matplotlib.pyplot as plt\n",
        "from matplotlib_venn import venn2, venn2_circles\n",
        "\n",
        "# Crear subconjuntos para representar la demostración\n",
        "A_union = {\"A1\", \"A2\", \"A3\", \"A4\"}  # Unión de conjuntos A_i\n",
        "A_complemento = {\"A1^c\", \"A2^c\", \"A3^c\", \"A4^c\"}  # Complementos de A_i\n",
        "\n",
        "# Crear un diagrama de Venn con dos conjuntos (A_union y A_complement)\n",
        "venn = venn2(subsets=(A_union, A_complemento), set_labels=('A_union', 'A_complemento'))\n",
        "\n",
        "# Etiquetar conjuntos y complementos\n",
        "venn.get_label_by_id('10').set_text('\\n'.join(A_union))  # Conjunto A_union\n",
        "# Skip labeling the empty intersection as it doesn't have a label\n",
        "#venn.get_label_by_id('11').set_text('')  # Intersección vacía\n",
        "venn.get_label_by_id('01').set_text('\\n'.join(A_complement))  # Conjunto A_complement\n",
        "\n",
        "# Agregar títulos\n",
        "plt.title(r'Demostración: $\\left( \\bigcup_{i \\in \\mathbb{N}} A_i \\right)^c \\subseteq \\bigcap_{i \\in \\mathbb{N}} A_i^c$', fontsize=14)\n",
        "\n",
        "# Mostrar el diagrama\n",
        "plt.show()"
      ],
      "metadata": {
        "colab": {
          "base_uri": "https://localhost:8080/",
          "height": 465
        },
        "id": "LqMioNpVHeyx",
        "outputId": "8f4e2cfb-4350-4d02-f009-cff38c1bc5f1"
      },
      "execution_count": null,
      "outputs": [
        {
          "output_type": "error",
          "ename": "NameError",
          "evalue": "name 'A_complement' is not defined",
          "traceback": [
            "\u001b[0;31m---------------------------------------------------------------------------\u001b[0m",
            "\u001b[0;31mNameError\u001b[0m                                 Traceback (most recent call last)",
            "\u001b[0;32m<ipython-input-2-5c916311e7ca>\u001b[0m in \u001b[0;36m<cell line: 15>\u001b[0;34m()\u001b[0m\n\u001b[1;32m     13\u001b[0m \u001b[0;31m# Skip labeling the empty intersection as it doesn't have a label\u001b[0m\u001b[0;34m\u001b[0m\u001b[0;34m\u001b[0m\u001b[0m\n\u001b[1;32m     14\u001b[0m \u001b[0;31m#venn.get_label_by_id('11').set_text('')  # Intersección vacía\u001b[0m\u001b[0;34m\u001b[0m\u001b[0;34m\u001b[0m\u001b[0m\n\u001b[0;32m---> 15\u001b[0;31m \u001b[0mvenn\u001b[0m\u001b[0;34m.\u001b[0m\u001b[0mget_label_by_id\u001b[0m\u001b[0;34m(\u001b[0m\u001b[0;34m'01'\u001b[0m\u001b[0;34m)\u001b[0m\u001b[0;34m.\u001b[0m\u001b[0mset_text\u001b[0m\u001b[0;34m(\u001b[0m\u001b[0;34m'\\n'\u001b[0m\u001b[0;34m.\u001b[0m\u001b[0mjoin\u001b[0m\u001b[0;34m(\u001b[0m\u001b[0mA_complement\u001b[0m\u001b[0;34m)\u001b[0m\u001b[0;34m)\u001b[0m  \u001b[0;31m# Conjunto A_complement\u001b[0m\u001b[0;34m\u001b[0m\u001b[0;34m\u001b[0m\u001b[0m\n\u001b[0m\u001b[1;32m     16\u001b[0m \u001b[0;34m\u001b[0m\u001b[0m\n\u001b[1;32m     17\u001b[0m \u001b[0;31m# Agregar títulos\u001b[0m\u001b[0;34m\u001b[0m\u001b[0;34m\u001b[0m\u001b[0m\n",
            "\u001b[0;31mNameError\u001b[0m: name 'A_complement' is not defined"
          ]
        },
        {
          "output_type": "display_data",
          "data": {
            "text/plain": [
              "<Figure size 640x480 with 1 Axes>"
            ],
            "image/png": "[encoded data removed]"
          },
          "metadata": {}
        }
      ]
    },
    {
      "cell_type": "code",
      "source": [
        "import matplotlib.pyplot as plt\n",
        "from matplotlib_venn import venn2, venn2_circles\n",
        "\n",
        "# Crear subconjuntos para representar la demostración\n",
        "A_complemento_cap = {\"A1^c\", \"A2^c\", \"A3^c\", \"A4^c\"}  # Intersección de complementos de A_i\n",
        "A_union_complemento = {\"A1\", \"A2\", \"A3\", \"A4\"}  # Complemento de la unión de A_i\n",
        "\n",
        "# Crear un diagrama de Venn con dos conjuntos (A_complemento_cap y A_union_complemento)\n",
        "venn = venn2(subsets=(A_complemento_cap, A_union_complemento), set_labels=('A_complemento_cap', 'A_union_complemento'))\n",
        "\n",
        "# Etiquetar conjuntos y complementos\n",
        "venn.get_label_by_id('10').set_text('\\n'.join(A_union_complement))  # Complemento de la unión A_i\n",
        "# Removed line attempting to label the empty intersection\n",
        "venn.get_label_by_id('01').set_text('\\n'.join(A_complement_cap))  # Intersección de complementos A_i\n",
        "\n",
        "# Agregar títulos\n",
        "plt.title(r'Demostración: $\\bigcap_{i \\in \\mathbb{N}} A_i^c \\subseteq \\left( \\bigcup_{i \\in \\mathbb{N}} A_i \\right)^c$', fontsize=14)\n",
        "\n",
        "# Mostrar el diagrama\n",
        "plt.show()"
      ],
      "metadata": {
        "id": "m58R-mA-Iyl5",
        "outputId": "7941c50b-6186-442a-90b7-d1d9d2c32c4b",
        "colab": {
          "base_uri": "https://localhost:8080/",
          "height": 309
        }
      },
      "execution_count": null,
      "outputs": [
        {
          "output_type": "display_data",
          "data": {
            "text/plain": [
              "<Figure size 640x480 with 1 Axes>"
            ],
            "image/png": "[encoded data removed]"
          },
          "metadata": {}
        }
      ]
    },
    {
      "cell_type": "markdown",
      "source": [
        "## ❓ **Algunas preguntas surgieron durante la explicación sobre la negación y el uso de complementos:**\n",
        "\n",
        "- **Si tomamos un $x$ en la intersección de los complementos**: $x \\in \\bigcap_{i \\in \\mathbb{N}} A_i^c$.\n",
        "- Definimos la intersección: $\\bigcap_{i \\in \\mathbb{N}} A_i^c = \\{ x \\in \\Omega \\mid \\forall i \\in \\mathbb{N}, x \\in A_i^c \\}$.\n",
        "- Entonces, $x \\in A_i^c$ para todo $i$.\n",
        "- Lo cual implica que $x \\notin A_i$ para todo $i$.\n",
        "- Esto significa que $x \\notin \\bigcup_{i \\in \\mathbb{N}} A_i$.\n",
        "- Por lo tanto, $x \\in \\left( \\bigcup_{i \\in \\mathbb{N}} A_i \\right)^c$.\n",
        "- Así, $\\bigcap_{i \\in \\mathbb{N}} A_i^c \\subseteq \\left( \\bigcup_{i \\in \\mathbb{N}} A_i \\right)^c$.\n",
        "\n",
        "**Así, concluimos que las leyes de De Morgan se cumplen.**\n",
        "\n",
        "Estas demostraciones muestran de manera formal y rigurosa la validez de las leyes de De Morgan en el contexto de teoría de conjuntos. Para demostrar la inyectividad y sobreyectividad de una función y la unicidad del antecedente a través de una demostración lógica, sigamos estos pasos detallados, que contienen tanto la teoría como ejemplos ilustrativos:\n"
      ],
      "metadata": {
        "id": "UugwOoomEiO7"
      }
    },
    {
      "cell_type": "markdown",
      "source": [
        "## 🧩 **Parte 1: Definición y Ejemplo de Inyectividad y Sobreyectividad**\n",
        "\n",
        "### 📌 **Definición de Inyectividad:**\n",
        "Una función $ f: A \\rightarrow B $ es inyectiva (o uno a uno) si para cada par de elementos $ x_1, x_2 \\in A $, si $ f(x_1) = f(x_2) $, entonces $ x_1 = x_2 $.\n",
        "\n",
        "### 📚 **Ejemplo de Inyectividad:**\n",
        "Considera la función $ f: \\mathbb{R} \\rightarrow \\mathbb{R} $ definida por $ f(x) = 2x $.\n",
        "- Si $ f(x_1) = f(x_2) $, entonces $ 2x_1 = 2x_2 $.\n",
        "- Dividiendo ambos lados por 2, obtenemos $ x_1 = x_2 $.\n",
        "- Por lo tanto, $ f $ es inyectiva.\n",
        "\n",
        "### 📌 **Definición de Sobreyectividad:**\n",
        "Una función $ f: A \\rightarrow B $ es sobreyectiva (o sobre) si para cada elemento $ y \\in B $, existe al menos un elemento $ x \\in A $ tal que $ f(x) = y $.\n",
        "\n",
        "### 📚 **Ejemplo de Sobreyectividad:**\n",
        "Considera la función $ f: \\mathbb{R} \\rightarrow \\mathbb{R} $ definida por $ f(x) = x^3 $.\n",
        "- Para cada $ y \\in \\mathbb{R} $, podemos encontrar un $ x \\in \\mathbb{R} $ tal que $ f(x) = y $. De hecho, $ x = \\sqrt[3]{y} $ cumple esta condición.\n",
        "- Por lo tanto, $ f $ es sobreyectiva.\n"
      ],
      "metadata": {
        "id": "Bpp-Zj34El6r"
      }
    },
    {
      "cell_type": "code",
      "source": [
        "import matplotlib.pyplot as plt\n",
        "import numpy as np\n",
        "\n",
        "# Crear una figura con tres subgráficos\n",
        "fig, axs = plt.subplots(1, 3, figsize=(18, 6))\n",
        "\n",
        "# Datos para las gráficas\n",
        "x = np.linspace(-10, 10, 400)\n",
        "\n",
        "# Inyectiva: f(x) = 2x + 1\n",
        "f_inyectiva = 2 * x + 1\n",
        "axs[0].plot(x, f_inyectiva, label='f(x) = 2x + 1')\n",
        "axs[0].set_title('Función Inyectiva')\n",
        "axs[0].set_xlabel('x')\n",
        "axs[0].set_ylabel('f(x)')\n",
        "axs[0].axhline(0, color='black', linewidth=0.5)\n",
        "axs[0].axvline(0, color='black', linewidth=0.5)\n",
        "axs[0].legend()\n",
        "axs[0].grid(True)\n",
        "\n",
        "# Sobreyectiva: f(x) = tanh(x)\n",
        "f_sobreyectiva = np.tanh(x)\n",
        "axs[1].plot(x, f_sobreyectiva, label='f(x) = tanh(x)', color='orange')\n",
        "axs[1].set_title('Función Sobreyectiva')\n",
        "axs[1].set_xlabel('x')\n",
        "axs[1].set_ylabel('f(x)')\n",
        "axs[1].axhline(0, color='black', linewidth=0.5)\n",
        "axs[1].axvline(0, color='black', linewidth=0.5)\n",
        "axs[1].legend()\n",
        "axs[1].grid(True)\n",
        "\n",
        "# Biyectiva: f(x) = x^3\n",
        "f_biyectiva = x**3\n",
        "axs[2].plot(x, f_biyectiva, label='f(x) = x^3', color='green')\n",
        "axs[2].set_title('Función Biyectiva')\n",
        "axs[2].set_xlabel('x')\n",
        "axs[2].set_ylabel('f(x)')\n",
        "axs[2].axhline(0, color='black', linewidth=0.5)\n",
        "axs[2].axvline(0, color='black', linewidth=0.5)\n",
        "axs[2].legend()\n",
        "axs[2].grid(True)\n",
        "\n",
        "plt.tight_layout()\n",
        "plt.show()\n"
      ],
      "metadata": {
        "colab": {
          "base_uri": "https://localhost:8080/",
          "height": 368
        },
        "id": "Fhzhv1Z8iV7d",
        "outputId": "6f9e9213-39e1-452c-feaa-6a7dc3416b68"
      },
      "execution_count": null,
      "outputs": [
        {
          "output_type": "display_data",
          "data": {
            "text/plain": [
              "<Figure size 1800x600 with 3 Axes>"
            ],
            "image/png": "[encoded data removed]"
          },
          "metadata": {}
        }
      ]
    },
    {
      "cell_type": "markdown",
      "source": [
        "## 🧠 **Parte 2: Demostración de Inyectividad y Sobreyectividad**\n",
        "\n",
        "### 🔍 **Teorema:**\n",
        "Sea $ f: A \\rightarrow B $ una función. Si $ f $ es inyectiva y sobreyectiva, entonces para todo $ y \\in B $, existe un único $ x \\in A $ tal que $ f(x) = y $.\n",
        "\n",
        "### 📝 **Demostración:**\n",
        "\n",
        "1. **Sea $ y \\in B $ cualquier elemento.**\n",
        "2. **Sobreyectividad:**\n",
        "   - Porque $ f $ es sobreyectiva, sabemos que existe al menos un $ x \\in A $ tal que $ f(x) = y $.\n",
        "3. **Inyectividad:**\n",
        "   - Supongamos que existen $ x_1, x_2 \\in A $ tales que $ f(x_1) = y $ y $ f(x_2) = y $.\n",
        "   - Porque $ f $ es inyectiva, $ f(x_1) = f(x_2) $ implica $ x_1 = x_2 $.\n",
        "   - Por lo tanto, tal $ x $ es único.\n",
        "4. **Conclusión:**\n",
        "   - Hemos demostrado que para cada $ y \\in B $, existe un único $ x \\in A $ tal que $ f(x) = y $.\n",
        "\n",
        "Así, se concluye que una función inyectiva y sobreyectiva establece una correspondencia biunívoca entre los elementos de $ A $ y $ B $.\n"
      ],
      "metadata": {
        "id": "fv2fYp9GE5oe"
      }
    },
    {
      "cell_type": "markdown",
      "source": [
        "## 🔢 **Parte 3: Espacios Métricos y Distancia**\n",
        "\n",
        "## 📐 **Definición de Espacio Métrico:**\n",
        "\n",
        "Un espacio métrico es un par $(E,d)$ donde $E$ es un conjunto y $d: E \\times E \\to \\mathbb{R}^+$ es una función (llamada métrica o distancia) que satisface las siguientes propiedades:\n",
        "\n",
        "### 📏 **Propiedades:**\n",
        "\n",
        "1. **No negatividad:** $d(x,y) \\geq 0$ para todos $x, y \\in E$.\n",
        "2. **Identidad del indiscernible:** $d(x,y) = 0$ si y solo si $x = y$.\n",
        "3. **Simetría:** $d(x,y) = d(y,x)$ para todos $x, y \\in E$.\n",
        "4. **Desigualdad triangular:** $d(x,z) \\leq d(x,y) + d(y,z)$ para todos $x, y, z \\in E$.\n",
        "\n",
        "## 🌟 **Ejemplo de Espacio Métrico:**\n",
        "\n",
        "El conjunto de los números reales $\\mathbb{R}$ con la métrica usual $d(x,y) = |x - y|$ es un espacio métrico.\n",
        "\n",
        "- La distancia $d(x,y)$ es siempre no negativa.\n",
        "- $d(x,y) = 0$ si y solo si $x = y$.\n",
        "- La distancia es simétrica, es decir, $d(x,y) = |x - y| = |y - x| = d(y,x)$.\n",
        "- Cumple la desigualdad triangular: $|x - z| \\leq |x - y| + |y - z|$.\n",
        "\n",
        "\n"
      ],
      "metadata": {
        "id": "h0jvlQHbFNex"
      }
    },
    {
      "cell_type": "markdown",
      "source": [
        "## 📚 **Resumen de Conceptos de la Clase**\n",
        "## 🧭 **Noción de Distancia:**\n",
        "\n",
        "- La distancia es una medida numérica de la proximidad entre dos puntos.\n",
        "- Para cualquier par de objetos $x$ y $y$, la distancia $d(x,y)$ debe cumplir tres propiedades:\n",
        "\n",
        "### 📏 **Propiedades de la distancia:**\n",
        "\n",
        "1. **Propiedad 1:** $d(x,y) = 0$ si y solo si $x = y$\n",
        "2. **Propiedad 2:** $d(x,y) = d(y,x)$ (simetría)\n",
        "3. **Propiedad 3:** $d(x,z) \\leq d(x,y) + d(y,z)$ (desigualdad triangular)\n",
        "\n",
        "## 🧮 **Distancia en la Línea Real $(\\mathbb{R})$:**\n",
        "\n",
        "- La distancia entre dos puntos $x$ y $y$ en $\\mathbb{R}$ se define como $|y - x|$.\n",
        "\n",
        "## 🗺️ **Distancia en el Plano $(\\mathbb{R}^2)$:**\n",
        "\n",
        "- Utilizando el teorema de Pitágoras, la distancia entre dos puntos $(x_1, y_1)$ y $(x_2, y_2)$ se define como:\n",
        "$$d((x_1, y_1), (x_2, y_2)) = \\sqrt{(x_2 - x_1)^2 + (y_2 - y_1)^2}$$\n",
        "\n",
        "## 🌐 **Distancia en el Espacio $(\\mathbb{R}^3)$:**\n",
        "\n",
        "- La fórmula se extiende a tres dimensiones:\n",
        "$$d((x_1, y_1, z_1), (x_2, y_2, z_2)) = \\sqrt{(x_2 - x_1)^2 + (y_2 - y_1)^2 + (z_2 - z_1)^2}$$\n",
        "\n",
        "## 📏 **Distancia en Espacios de Dimensión N $(\\mathbb{R}^n)$:**\n",
        "\n",
        "- Generalizando para $n$ dimensiones:\n",
        "$$d(x, y) = \\sqrt{\\sum_{i=1}^n (x_i - y_i)^2}$$\n",
        "\n",
        "## 🔵 **Círculos y Bolas:**\n",
        "\n",
        "- Un círculo de centro $O$ y radio $r$ es el conjunto de puntos que están a una distancia exacta $r$ del centro $O$.\n",
        "- Una bola (cerrada) de centro $O$ y radio $r$ incluye todos los puntos cuya distancia al centro es menor o igual a $r$.\n",
        "- Una bola abierta excluye los puntos en el borde del círculo, considerando solo aquellos cuya distancia es estrictamente menor que $r$.\n",
        "\n",
        "## 🌐 **Ilustraciones de Conceptos**\n",
        "\n",
        "### **Distancia en la Línea Real $(\\mathbb{R})$:**\n",
        "\n",
        "- Dos puntos $x$ y $y$ en la línea real con la distancia entre ellos representada por $|y - x|$.\n",
        "\n",
        "### **Distancia en el Plano $(\\mathbb{R}^2)$:**\n",
        "\n",
        "- Distancia entre dos puntos $(x_1, y_1)$ y $(x_2, y_2)$ en el plano.\n",
        "\n",
        "### **Distancia en el Espacio $(\\mathbb{R}^3)$:**\n",
        "\n",
        "- Distancia entre dos puntos en el espacio tridimensional.\n",
        "\n",
        "### **Círculo y Bola en $(\\mathbb{R}^2)$:**\n",
        "\n",
        "- Círculo de centro $O$ y radio $r$.\n",
        "- Bola cerrada y bola abierta de radio $r$.\n"
      ],
      "metadata": {
        "id": "yIsrz8SaFUdo"
      }
    },
    {
      "cell_type": "markdown",
      "source": [
        "# 🔑 ***Preguntas:***"
      ],
      "metadata": {
        "id": "h4nFmlkfkHZE"
      }
    },
    {
      "cell_type": "markdown",
      "source": [
        "Antes de pasar a las preguntas con respuesta, me encantaría que juntos intentemos esta trivia de preguntas. Te aseguro que valdrá la pena. Let's go 🏎️"
      ],
      "metadata": {
        "id": "q6i39D-2y5wn"
      }
    },
    {
      "cell_type": "markdown",
      "source": [
        "![giphy-1.gif](data:image/gif;base64,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)"
      ],
      "metadata": {
        "id": "bn5o-qqr9ZAy"
      }
    },
    {
      "cell_type": "markdown",
      "source": [
        " 🔗⛓️ Link de la **Trivia de preguntas:**  [Preguntas Quizizz](https://quizizz.com/join?gc=82331842)"
      ],
      "metadata": {
        "id": "Kdk7ZsfzzTxd"
      }
    },
    {
      "cell_type": "markdown",
      "source": [
        "![8bc82544ef312c696b66dac6ea3c957d.gif](data:image/gif;base64,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)"
      ],
      "metadata": {
        "id": "6oO24KN79iR5"
      }
    },
    {
      "cell_type": "markdown",
      "source": [
        "## 1. 🔑 ***¿Para qué sirve el condicional `if` en Python?***\n",
        "\n",
        "a) Para ejecutar un bloque de código si la condición es verdadera.  \n",
        "b) Para repetir operaciones de manera eficiente.  \n",
        "c) Para crear y manipular listas de manera concisa y elegante.  \n",
        "d) Permite comprobar múltiples condiciones si la condición inicial es falsa.  \n",
        "e) Para ejecutar un bloque de código si todas las condiciones anteriores son falsas.  \n",
        "\n",
        "**Respuesta correcta:** *Para ejecutar un bloque de código si la condición es verdadera.*\n",
        "\n",
        "La estructura permite condicional `if` que un programa decida si ejecuta una sentencia o un bloque de sentencias, en caso de que la condición sea verdadera, o bien si salta su ejecución, en caso de que la condición sea falsa."
      ],
      "metadata": {
        "id": "y8Xki787m0cG"
      }
    },
    {
      "cell_type": "markdown",
      "source": [
        "\n",
        "## 2.  🔑  ***¿Cuál es la función de `for` y `while` en Python?***\n",
        "\n",
        "a) Proporcionar una manera concisa y eficiente de crear y manipular listas en Python.  \n",
        "b) Ejecutar repetidamente un bloque de código hasta que se cumpla una condición específica.  \n",
        "c) Saltar ciertas iteraciones basadas en condiciones específicas.  \n",
        "d) Comprobar múltiples condiciones si la condición inicial es falsa.  \n",
        "e) Ejecuta un bloque de código si todas las condiciones anteriores son falsas.  \n",
        "**Respuesta correcta:** *Ejecutar repetidamente un bloque de código hasta que se cumpla una condición específica.*  \n",
        "\n",
        "En Python, se puede usar bucles «while» para ejecutar la misma tarea varias veces; y bucles «for» para recorrer en bucle un determinado número de veces los datos de la lista."
      ],
      "metadata": {
        "id": "x-6yUZKwm9SZ"
      }
    },
    {
      "cell_type": "markdown",
      "source": [
        "\n",
        "\n",
        "## 3. 🔑 ***¿Un usuario para qué utiliza la declaración `break` en Python?***\n",
        "\n",
        "a) Iniciar listas para cuadros en Python.  \n",
        "b) Iniciar un nuevo condicional.  \n",
        "c) Asignar valores de verdadero o falso a una proposición.  \n",
        "d) Tomar decisiones dentro de un bucle.  \n",
        "e) Termina el bucle actual inmediatamente y continúa con la ejecución del código después del bucle.  \n",
        "\n",
        "**Respuesta correcta:** *Termina el bucle actual inmediatamente y continúa con la ejecución del código después del bucle.*\n",
        "\n",
        "`break` es una sentencia que permite parar un bucle por completo en cuanto se da o deja de darse cuenta de una condición externa. Python break se utiliza dentro del código y suele estar situado después de una sentencia «if».\n"
      ],
      "metadata": {
        "id": "yzgT8ubsnCwG"
      }
    },
    {
      "cell_type": "markdown",
      "source": [
        "\n",
        "\n",
        "## 4. 🔑 ***¿Qué función cumple la declaración `pass` en Python?***\n",
        "\n",
        "a) Introducir una sentencia en el código que haga que el programa siga ejecutándose.  \n",
        "b) Expresar que hay un desplazamiento o un movimiento hacia un lugar concreto.  \n",
        "c) Recorrer cualquier objeto iterable.  \n",
        "d) Pasar de un nivel de algoritmo a otro antes de preparar detalles.  \n",
        "e) Actuar como marcador de posición al trabajar en un nuevo código.  \n",
        "\n",
        "**Respuesta correcta:** *Actuar como marcador de posición al trabajar en un nuevo código.*\n",
        "\n",
        "La instrucción `pass` le indica al programa que ignore esa condición y continúe ejecutando el programa como de costumbre. El pase de instrucción puede crear clases mínimas o actuar como marcador de posición al trabajar en un nuevo código y pensar en un nivel de algoritmo antes de preparar detalles."
      ],
      "metadata": {
        "id": "JmQTVmWwnSoJ"
      }
    },
    {
      "cell_type": "markdown",
      "source": [
        "\n",
        "\n",
        "## 5. 🔑***¿Para qué se utiliza la función «print» en Python?***\n",
        "\n",
        "a) Se utiliza para iterar sobre una secuencia de proposiciones.  \n",
        "b) Crear colecciones de elementos.  \n",
        "c) Para mostrar un texto o variables de un determinado código.  \n",
        "d) Ejecutar una función mientras una condición sea verdadera.  \n",
        "e) Modificar variables de un código.  \n",
        "\n",
        "**Respuesta correcta:** *Para mostrar un texto o variables de un determinado código.*  \n",
        "\n",
        "La función `print` en Python es una función incorporada que se utiliza para mostrar mensajes en la pantalla. Es muy útil cuando se desea mostrar el resultado de una operación o simplemente imprimir un mensaje para el usuario.\n"
      ],
      "metadata": {
        "id": "RS0kOEmsnU9K"
      }
    },
    {
      "cell_type": "markdown",
      "source": [
        "\n",
        "## 6. 🔑***¿Quién fue el creador de Python?***\n",
        "\n",
        "a) Guido Van Rossum.  \n",
        "b) James Gosling.  \n",
        "c) Albert Camus.  \n",
        "d) Michael Stonebraker.  \n",
        "e) Linus Torvalds.  \n",
        "\n",
        "**Respuesta correcta:** *Guido Van Rossum.*  \n",
        "\n",
        "Guido Van Rossum, un programador de computación de los Países Bajos, creó Python. Python comenzó en 1989 en el Centrum Wiskunde & Informatica (CWI), inicialmente como un proyecto de afición para mantenerse ocupado durante las vacaciones de Navidad. El nombre del lenguaje se inspiró en el programa de televisión de la BBC «Monty Python's Flying Circus» debido a que Guido Van Rossum era un gran aficionado al programa."
      ],
      "metadata": {
        "id": "0DFNTsY6nY2H"
      }
    },
    {
      "cell_type": "markdown",
      "source": [
        "\n",
        "\n",
        "## 7. 🔑***Si $(a + b + c = 0)$, encontrar el valor de la siguiente expresión:***\n",
        "\n",
        "$[ \\frac{a^2}{bc} + \\frac{b^2}{ac} + \\frac{c^2}{ab} ]$\n",
        "\n",
        "a) 5  \n",
        "b) 10  \n",
        "c) 15  \n",
        "d) 3  \n",
        "e) 25  \n",
        "\n",
        "**Respuesta correcta:** 3  \n",
        "\n",
        "- Trabajamos con la expresión dada: $[ \\frac{a^2}{bc} + \\frac{b^2}{ac} + \\frac{c^2}{ab} ]$  \n",
        "- Aplicamos mínimo común múltiplo: $[ \\frac{a^2}{bc} + \\frac{b^2}{ac} + \\frac{c^2}{ab} = \\frac{a^3 + b^3 + c^3}{abc} ]$\n",
        "\n",
        "- Encontramos el valor de: $(a^3 + b^3 + c^3)$  \n",
        "\n",
        "- En la ecuación despejo: $(a + b + c = 0 \\rightarrow a + b = -c)$\n",
        "\n",
        "- Aplicando suma de cubos: $((a + b)^3 = (-c)^3)$\n",
        "\n",
        "  $[ a^3 + 3a^2b + 3ab^2 + b^3 = -c^3 ]$  \n",
        "- Despejando: $(a^3 + b^3 + c^3 = -3a^2b - 3ab^2)$  \n",
        "- Factor común: $(a^3 + b^3 + c^3 = -3ab(a + b))$  \n",
        "- Reemplazamos: $(a + b = -c)$\n",
        "\n",
        "  $[ a^3 + b^3 + c^3 = -3ab(-c) ]$  \n",
        "\n",
        "  $[ a^3 + b^3 + c^3 = 3abc ]$  \n",
        "\n",
        "- Una vez encontrado el valor de $(a^3 + b^3 + c^3)$, reemplazamos en el procedimiento inicial:  \n",
        "\n",
        "  $[ \\frac{a^2}{bc} + \\frac{b^2}{ac} + \\frac{c^2}{ab} = \\frac{3abc}{abc} = 3 ]$  \n",
        "\n",
        "- Por lo tanto: $[ \\frac{a^2}{bc} + \\frac{b^2}{ac} + \\frac{c^2}{ab} = 3 ]$"
      ],
      "metadata": {
        "id": "gafhug5CneyF"
      }
    },
    {
      "cell_type": "markdown",
      "source": [
        "\n",
        "## 8.  🔑 ***Si $(a + b + c = 0)$, encontrar el valor de la siguiente expresión:***\n",
        "\n",
        "$$\n",
        "\\frac{b + c}{bc} \\left( b^2 + c^2 - a^2 \\right) + \\frac{c + a}{ac} \\left( c^2 + a^2 - b^2 \\right) + \\frac{a + b}{ab} \\left( a^2 + b^2 - c^2 \\right)\n",
        "$$\n",
        "\n",
        "a) -6\n",
        "\n",
        "b) -12\n",
        "\n",
        "c) 5\n",
        "\n",
        "d) 11\n",
        "\n",
        "e) 0\n",
        "\n",
        "**Respuesta correcta: 0**\n",
        "\n",
        "\n",
        "-  Despejando:\n",
        "\n",
        "$$\n",
        "a + b + c = 0 \\\\\n",
        "a + b = -c \\\\\n",
        "a + c = -b \\\\\n",
        "b + c = -a\n",
        "$$\n",
        "\n",
        "- Aplico cuadrado a ambos miembros para encontrar la identidad y despejo:\n",
        "\n",
        "1) $a + b = -c$\n",
        "\n",
        "$$\n",
        "(a + b)^2 = (-c)^2 \\\\\n",
        "a^2 + 2ab + b^2 = c^2 \\\\\n",
        "a^2 + b^2 - c^2 = -2ab\n",
        "$$\n",
        "\n",
        "2) $a + c = -b$\n",
        "\n",
        "$$\n",
        "(a + c)^2 = (-b)^2 \\\\\n",
        "a^2 + 2ac + c^2 = b^2 \\\\\n",
        "a^2 - b^2 + c^2 = -2ac\n",
        "$$\n",
        "\n",
        "3) $b + c = -a$\n",
        "\n",
        "$$\n",
        "(b + c)^2 = (-a)^2 \\\\\n",
        "b^2 + 2bc + c^2 = a^2 \\\\\n",
        "-a^2 + b^2 + c^2 = -2bc\n",
        "$$\n",
        "\n",
        "- Ahora reemplazo en la expresión inicial:\n",
        "\n",
        "- Como:\n",
        "\n",
        "$$\n",
        "\\frac{b + c}{bc} \\left( b^2 + c^2 - a^2 \\right) + \\frac{c + a}{ac} \\left( c^2 + a^2 - b^2 \\right) + \\frac{a + b}{ab} \\left( a^2 + b^2 - c^2 \\right)\n",
        "$$\n",
        "\n",
        "- Entonces:\n",
        "\n",
        "$$\n",
        "\\frac{-a}{bc} (-2bc) + \\frac{-b}{ac} (-2ac) + \\frac{-c}{ab} (-2ab)\n",
        "$$\n",
        "\n",
        "- Simplificando:\n",
        "\n",
        "$$\n",
        "2a + 2b + 2c\n",
        "$$\n",
        "\n",
        "- Factor común:\n",
        "\n",
        "$$\n",
        "2(a + b + c)\n",
        "$$\n",
        "\n",
        "- Como:\n",
        "\n",
        "$$\n",
        "a + b + c = 0\n",
        "$$\n",
        "\n",
        "- Entonces:\n",
        "\n",
        "$$\n",
        "2(0) = 0\n",
        "$$\n"
      ],
      "metadata": {
        "id": "pwiQddVGns20"
      }
    },
    {
      "cell_type": "markdown",
      "source": [
        "## 9. 🔑 ***Si:***\n",
        "\n",
        "$$\n",
        "A = \\frac{a+b+c}{bc} + \\frac{a-b+c}{b^2 - bc} + \\frac{a+b-c}{c^2 - bc}\n",
        "$$\n",
        "\n",
        "$$\n",
        "B = \\frac{(a+4)^2 - 4}{(2a+2)^2 - a^2} + \\frac{(4-25)^2 - (4a+2)^2}{a^2 - (4a+2)^2}\n",
        "$$\n",
        "\n",
        "- Hallar $A+B:$\n",
        "  - $2$\n",
        "  - $-4$\n",
        "  - $10$\n",
        "  - $3$\n",
        "  - $π$\n",
        "\n",
        "**Respuesta correcta:** 2\n",
        "\n",
        "*a) Encontrar el valor de (A):*\n",
        "\n",
        "- Factor común:\n",
        "$$\n",
        "A = \\frac{a+b+c}{bc} + \\frac{a-b+c}{b(b-c)} + \\frac{a+b-c}{c(c-b)}\n",
        "$$\n",
        "\n",
        "- Aplicar artificio del cambio de signo de una fracción:\n",
        "$$\n",
        "A = \\frac{a+b+c}{bc} + \\frac{-(a-b+c)}{b(b-c)} + \\frac{-(a+b-c)}{c(b-c)}\n",
        "$$\n",
        "\n",
        "- Aplicar mínimo común múltiplo:\n",
        "$$\n",
        "A = \\frac{(b-c)(a+b+c) + c(a-b+c) + b(a+b-c)}{bc(b-c)}\n",
        "$$\n",
        "\n",
        "- Simplificando:\n",
        "$$\n",
        "A = \\frac{ab + b^2 + bc - ac - bc - c^2 + ac - bc + c^2 - ab - b^2 + bc}{bc(b-c)}\n",
        "$$\n",
        "\n",
        "- Reduciendo términos semejantes:\n",
        "$$\n",
        "A = \\frac{0}{bc(b-c)}\n",
        "$$\n",
        "\n",
        "- Simplificando:\n",
        "$$\n",
        "A = 0\n",
        "$$\n",
        "\n",
        "*b) Encontrar el valor de (B):*\n",
        "\n",
        "- Aplicando diferencia de cuadrados:\n",
        "$$\n",
        "B = \\frac{(a+4+2)(a+4-2)}{(2a+2+a)(2a+2-a)} - \\frac{(2+5a)(2-5a)}{(a+4a+2)(a-4a-2)}\n",
        "$$\n",
        "\n",
        "- Simplificando:\n",
        "$$\n",
        "B = \\frac{(a+6)(a+2)}{(3a+2)(a+2)} - \\frac{(2-5a)(2-5a)}{(5a+2)(-3a-2)}\n",
        "$$\n",
        "\n",
        "$$\n",
        "B = \\frac{(a+6)}{(3a+2)} + \\frac{(2-5a)}{(-3a-2)}\n",
        "$$\n",
        "\n",
        "- Aplicando artificio del cambio de signo de una fracción:\n",
        "$$\n",
        "B = \\frac{a+6}{3a+2} + \\frac{-(2-5a)}{3a+2}\n",
        "$$\n",
        "\n",
        "- Resuelvo suma de fracciones homogéneas:\n",
        "$$\n",
        "B = \\frac{a+6 - (2-5a)}{3a+2} = \\frac{6a+4}{3a+2}\n",
        "$$\n",
        "\n",
        "- Factor común:\n",
        "$$\n",
        "B = \\frac{2(3a+2)}{3a+2}\n",
        "$$\n",
        "\n",
        "- Simplifico:\n",
        "$$\n",
        "B = 2\n",
        "$$\n",
        "\n",
        "*c) Calcular (A + B):*\n",
        "\n",
        "$$\n",
        "A + B = 0 + 2 = 2\n",
        "$$\n",
        "\n",
        "**Respuesta:** 2"
      ],
      "metadata": {
        "id": "p56ARltIrPXz"
      }
    },
    {
      "cell_type": "markdown",
      "source": [
        "##  10. 🔑 ***Si $2a = p + q + r$, demostrar que: $4(a - q)(a - r) + (q - r)^2 = p^2$ y encontrar el valor de $p$.***\n",
        "\n",
        "a) $p = 2a - q - r$  \n",
        "b) $p = a - q + \\pi r$  \n",
        "c) $p = 6a + \\frac{3}{4} q - 4r$  \n",
        "d) $p = a + q + r$  \n",
        "e) $p = 2a - q + r$  \n",
        "\n",
        "**Respuesta correcta: $p = 2a - q - r$**\n",
        "\n",
        "- Demostrando:\n",
        "\n",
        "- De la ecuación, despejamos $p$:\n",
        "\n",
        "$$2a = p + q + r$$  \n",
        "$$p = 2a - q - r$$\n",
        "\n",
        "- Desarrollo la ecuación:\n",
        "\n",
        "$$4(a - q)(a - r) + (q - r)^2 = p^2$$  \n",
        "$$4a - 4q(a - r) + q^2 - 2qr + r^2 = p^2$$  \n",
        "$$4a - 4aq - 4qr + q^2 - 2qr + r^2 = p^2$$  \n",
        "\n",
        "- Reduzco términos semejantes:\n",
        "\n",
        "$$4a^2 - 4aq + 2qr + q^2 + r^2 = p^2$$  \n",
        "\n",
        "- Ahora ordenamos el polinomio:\n",
        "\n",
        "$$4a^2 - 4aq + q^2 + 2qr + r^2 = p^2$$  \n",
        "\n",
        "Para factorizar el polinomio, aplicamos el artificio especial del Aspa Doble: (Descomponemos los términos cuadráticos y multiplicamos en cruz; luego, sumamos o restamos esos términos y el resultado deben ser los términos centrales del polinomio. El resultado será el producto de los factores descompuestos escritos de forma horizontal).\n",
        "\n",
        "\n",
        "\n"
      ],
      "metadata": {
        "id": "SWFDNa5_udpN"
      }
    },
    {
      "cell_type": "markdown",
      "source": [
        "![Screenshot 2024-07-07 004618.png](data:image/png;base64,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)"
      ],
      "metadata": {
        "id": "awoRXuc6uqE2"
      }
    },
    {
      "cell_type": "markdown",
      "source": [
        "- Entonces:\n",
        "\n",
        "$$(2a - q)(2a - q - r) = p^2$$  \n",
        "$$(2a - q - r)^2 = p^2$$  \n",
        "\n",
        "- Por lo tanto:\n",
        "\n",
        "$$p = 2a - q - r$$\n"
      ],
      "metadata": {
        "id": "1njZ8RzKukcS"
      }
    },
    {
      "cell_type": "markdown",
      "source": [
        "## 11.  🔑 ***Si:***\n",
        "\n",
        "$$x^{(x-1)^2} = 2x - 1$$\n",
        "\n",
        "Calcular:\n",
        "\n",
        "$$x - \\frac{1}{x}$$\n",
        "\n",
        "a) 6  \n",
        "b) -4  \n",
        "c) 2  \n",
        "d) -1  \n",
        "e) 0  \n",
        "\n",
        "**Respuesta correcta: 2**\n",
        "\n",
        "- Desarrollamos el trinomio cuadrado perfecto:\n",
        "\n",
        "$$x^{x^2 - 2x + 1} = 2x - 1$$\n",
        "\n",
        "- Expresamos a 1 como:\n",
        "\n",
        "$$x^{x^2 - 2x + 1 - 1 + 2} = 2x - 1$$  \n",
        "$$x^{x^2 - 2x - 1 + 2} = 2x - 1$$\n",
        "\n",
        "- Utilizando la propiedad de cociente:\n",
        "\n",
        "$$a^{b - c} = \\frac{a^b}{a^c}$$\n",
        "\n",
        "- Entonces:\n",
        "\n",
        "$$\\frac{x^{x^2}}{x^{2x + 1}} = 2x + 1$$\n",
        "\n",
        "- Desarrollando:\n",
        "\n",
        "$$x^{x^2} = 2x + 1 \\left(x^{2x + 1}\\right)$$\n",
        "\n",
        "- Por propiedad de exponentes:\n",
        "\n",
        "$$x^{x^2} = 2x + 1 \\left(x^{2x + 1}\\right)$$\n",
        "\n",
        "- Ordenando:\n",
        "\n",
        "$$\\left(x^2\\right) + x^{2x} = \\left(2x + 1\\right) \\left(x^{2x + 1}\\right)$$\n",
        "\n",
        "- Por comparación tenemos:\n",
        "\n",
        "$$x^2 = 2x + 1$$\n",
        "\n",
        "Por lo tanto:\n",
        "\n",
        "$$x^2 - 1 = 2x$$\n",
        "\n",
        "- Por propiedad uniforme:\n",
        "\n",
        "$$\\frac{x^2}{x} - \\frac{1}{x} = \\frac{2x}{x}$$\n",
        "\n",
        "- Finalmente:\n",
        "\n",
        "$$x - \\frac{1}{x} = 2$$\n"
      ],
      "metadata": {
        "id": "2LsE39jPwFJ1"
      }
    },
    {
      "cell_type": "markdown",
      "source": [
        "## 12. 🔑 ***Si:***\n",
        "\n",
        "$$\\frac{a}{b} + \\frac{b}{a} = 1$$\n",
        "\n",
        "Encontrar:\n",
        "\n",
        "$$a^3 + b^3$$\n",
        "\n",
        "a) 1  \n",
        "b) 5  \n",
        "c) 12  \n",
        "d) -1  \n",
        "e) 0  \n",
        "\n",
        "**Respuesta correcta: 0**\n",
        "\n",
        "- Mínimo común múltiplo:\n",
        "\n",
        "$$\\frac{a^2 + b^2}{ab} = 1$$\n",
        "\n",
        "- Por propiedad uniforme:\n",
        "\n",
        "$$a^2 + b^2 = ab$$\n",
        "\n",
        "- Ordenando:\n",
        "\n",
        "$$a^2 + b^2 - ab = 0$$  \n",
        "$$a^2 - ab + b^2 = 0$$\n",
        "\n",
        "- Reconstruimos la suma de cubos:\n",
        "\n",
        "$$a^3 + b^3 = (a + b)(a^2 - ab + b^2)$$\n",
        "\n",
        "- Por lo tanto:\n",
        "\n",
        "$$a^3 - b^3 = (a - b)(a^2 + ab + b^2)$$\n",
        "\n",
        "- Usando la propiedad uniforme:\n",
        "\n",
        "$$(a + b)(a^2 - ab + b^2) = 0(a + b)$$  \n",
        "$$= (a + b)(a^2 - ab + b^2) = 0$$  \n",
        "$$a^3 + b^3 = (a + b)(a^2 - ab + b^2) = 0$$\n",
        "\n",
        "- Finalmente:\n",
        "\n",
        "$$a^3 + b^3 = 0$$\n"
      ],
      "metadata": {
        "id": "DZp2ht3AxKQQ"
      }
    },
    {
      "cell_type": "markdown",
      "source": [
        "⛓️🔗En este link encontrarás los ejercicios en un docx descargable, disfrútalo. ✔️\n",
        "\n",
        "[Ejercicios](https://docs.google.com/document/d/1b24vx-Vvag3_uIA0HJwZNVtibJxaRJYu/edit?usp=sharing&ouid=116005172411177802920&rtpof=true&sd=true)"
      ],
      "metadata": {
        "id": "ImJaQzTX-KoI"
      }
    },
    {
      "cell_type": "markdown",
      "source": [
        "# 👌 ***Conclusión***\n",
        "**En conclusión** 🎉, las **estructuras de control en Python** 🐍 como `if`, `for`, y `while` son esenciales para la creación de algoritmos eficientes, permitiendo tomar decisiones y repetir acciones 🔄. Las **demostraciones matemáticas** , a través de métodos como la demostración directa  y por contradicción, son fundamentales para validar teorías y construir nuevo conocimiento 📚. Las **nociones de distancia**, son cruciales en la geometría 📈 y en aplicaciones como el aprendizaje automático . Integrando estas áreas 🔗, resaltamos la sinergia entre programación 💻 y matemáticas 🔢, donde la programación implementa algoritmos matemáticos con precisión 🎯 y la matemática asegura su validez. Este dominio conjunto amplía nuestras capacidades analíticas  y de resolución de problemas, enfrentando desafíos complejos de manera creativa 🎨 y efectiva 🚀."
      ],
      "metadata": {
        "id": "Sl0Vzd1w_Kcz"
      }
    }
  ]
}