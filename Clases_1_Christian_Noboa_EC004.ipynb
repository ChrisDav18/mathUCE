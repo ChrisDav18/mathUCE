{
  "nbformat": 4,
  "nbformat_minor": 0,
  "metadata": {
    "colab": {
      "provenance": [],
      "authorship_tag": "ABX9TyOHR3ebhA5QOWfW4qseqDsk",
      "include_colab_link": true
    },
    "kernelspec": {
      "name": "python3",
      "display_name": "Python 3"
    },
    "language_info": {
      "name": "python"
    }
  },
  "cells": [
    {
      "cell_type": "markdown",
      "metadata": {
        "id": "view-in-github",
        "colab_type": "text"
      },
      "source": [
        "<a href=\"https://colab.research.google.com/github/ChrisDav18/mathUCE/blob/main/Clases_1_Christian_Noboa_EC004.ipynb\" target=\"_parent\"><img src=\"https://colab.research.google.com/assets/colab-badge.svg\" alt=\"Open In Colab\"/></a>"
      ]
    },
    {
      "cell_type": "markdown",
      "source": [
        "# Elementos de Lógica y Conjuntos🧠\n",
        "## Lógica Proposicional📜\n",
        "\n",
        "### Definición de Proposición💬\n",
        "\n",
        "Una **proposición** es una afirmación que puede ser verdadera o falsa, pero no ambas.\n",
        "\n",
        "### Operadores Lógicos🔢\n",
        "\n",
        "Los operadores lógicos principales son:\n",
        "\n",
        "- **Negación** (¬)🚫\n",
        "- **Conjunción** (∧)🌐\n",
        "- **Disyunción** (∨)🔄\n",
        "- **Implicación** (→)➡️\n",
        "- **Doble implicación** (↔)\n",
        "\n"
      ],
      "metadata": {
        "id": "JSe2JflEE-fa"
      }
    },
    {
      "cell_type": "code",
      "source": [
        "import pandas as pd\n",
        "from prettytable import PrettyTable\n",
        "\n",
        "# Función para calcular la implicación lógica P → Q\n",
        "def implication(p, q):\n",
        "    return (not p) or q\n",
        "\n",
        "# Crear los datos de la tabla de verdad\n",
        "data = {\n",
        "    \"P\": [True, True, False, False],\n",
        "    \"Q\": [True, False, True, False],\n",
        "}\n",
        "\n",
        "# Calcular la columna P → Q\n",
        "data[\"P → Q\"] = [implication(p, q) for p, q in zip(data[\"P\"], data[\"Q\"])]\n",
        "\n",
        "# Convertir los valores booleanos a \"V\" y \"F\"\n",
        "df = pd.DataFrame(data).replace({True: 'V', False: 'F'})\n",
        "\n",
        "# Crear un objeto PrettyTable\n",
        "pt = PrettyTable()\n",
        "\n",
        "# Definir los nombres de las columnas\n",
        "pt.field_names = df.columns.tolist()\n",
        "\n",
        "# Agregar las filas a PrettyTable\n",
        "for row in df.values:\n",
        "    pt.add_row(row)\n",
        "\n",
        "# Imprimir PrettyTable\n",
        "print(pt)"
      ],
      "metadata": {
        "colab": {
          "base_uri": "https://localhost:8080/"
        },
        "id": "Zo_NIxLSSFjV",
        "outputId": "04d0afd6-991f-400e-8ef0-0dd212bbd900"
      },
      "execution_count": null,
      "outputs": [
        {
          "output_type": "stream",
          "name": "stdout",
          "text": [
            "+---+---+-------+\n",
            "| P | Q | P → Q |\n",
            "+---+---+-------+\n",
            "| V | V |   V   |\n",
            "| V | F |   F   |\n",
            "| F | V |   V   |\n",
            "| F | F |   V   |\n",
            "+---+---+-------+\n"
          ]
        }
      ]
    },
    {
      "cell_type": "markdown",
      "source": [
        "**Cuantificadores lógicos:**🌐\n",
        "\n",
        " -**Existe** (∃)\n",
        "\n",
        "-**Para todo** (∀)\n",
        "\n",
        "Ejemplo:\n",
        "\n",
        "·∃x ∀y: \"Existe un x para todo y\"\n",
        "\n",
        "·∀y ∃x: \"Para todo y existe un x\"\n",
        "\n",
        "Este orden de cuantificadores afectan a su significado lógico.\n",
        "\n",
        "**Analogias**📚\n",
        "\n",
        "Son proposiciones que son siempre verdades, también son conocidas como tautologías.\n",
        "\n",
        "Ejemplo:\n",
        "Todos tienen una madre, ninguna como la mía\n",
        "\n",
        "∃x ∀y: Existe una madre para todas las personas (incorrecto)\n",
        "\n",
        "∀y ∃x: Para toda persona existe una madre (correcto)\n",
        "\n",
        "**Negación de cuantificadores**🚫\n",
        "\n",
        "-Negación de ∃x P(x): ∀x ¬P(x)\n",
        "\n",
        "-Negación de ∀x P(x): ∃x ¬P(x)\n",
        "\n",
        "\n"
      ],
      "metadata": {
        "id": "4Cdx9SsgSu92"
      }
    },
    {
      "cell_type": "markdown",
      "source": [
        "## Teoría de Conjuntos🧩\n",
        "\n",
        "### Definición de Conjunto📚\n",
        "\n",
        "Un **conjunto📚** es una colección de elementos distintos. Los elementos pueden ser números, letras, u otros objetos.\n",
        "\n",
        "### Notación\n",
        "\n",
        "- Un conjunto se denota con llaves📚: {a, b, c}\n",
        "-Números naturales (ℕ)🌱: {0, 1, 2, 3, ...}\n",
        "-Enteros (ℤ)🔢:  N y negativos\n",
        "-Números racionales (ℚ)📊: Forma n/m, donde n ∈ ℤ y m ∈ ℕ\n",
        "-Números reales (ℝ)🌐: Representados en la recta real\n",
        "- Conjunto vacío🌌: {}\n",
        "- Pertenece🌟: ∈\n",
        "- No pertenece 🚫: ∉\n",
        "- Intersección🔄: ∩\n",
        "- Unión🌐: ∪\n",
        "- Complemento🌑: ∁\n",
        "\n",
        "### Operaciones con Conjuntos\n",
        "\n",
        "- **Unión🌐** (A ∪ B)\n",
        "- **Intersección**🔄 (A ∩ B)\n",
        "- **Diferencia**➖ (A - B)\n",
        "- **Complemento**🌑 (A^c)\n",
        "\n"
      ],
      "metadata": {
        "id": "qdxAkgGWFq7y"
      }
    },
    {
      "cell_type": "code",
      "source": [
        "from IPython.display import Image\n",
        "url = 'https://probabilidadzl.weebly.com/uploads/2/6/4/1/26414312/2074976_orig.png'\n",
        "display(Image(url=url))"
      ],
      "metadata": {
        "id": "81cFv-glLKAI",
        "outputId": "eff41c3e-d787-4f80-8303-c9e412bf3952",
        "colab": {
          "base_uri": "https://localhost:8080/",
          "height": 491
        }
      },
      "execution_count": null,
      "outputs": [
        {
          "output_type": "display_data",
          "data": {
            "text/html": [
              "<img src=\"https://probabilidadzl.weebly.com/uploads/2/6/4/1/26414312/2074976_orig.png\"/>"
            ],
            "text/plain": [
              "<IPython.core.display.Image object>"
            ]
          },
          "metadata": {}
        }
      ]
    }
  ]
}
## Referencias y Licencias

Este trabajo utiliza material del curso "Matemáticas y Programación para Ciencias Sociales" de FLACSO Ecuador.

Pérez, F. (2024). Matemáticas y Programación para Ciencias Sociales. FLACSO Ecuador.
- Repositorio GitHub: https://github.com/franperezec/math (Licencia MIT)
- Canal de YouTube: https://www.youtube.com/@FranciscoPerezMatematicas (CC BY 4.0)

Al utilizar este material, acepto cumplir con los términos de las licencias MIT y Creative Commons BY 4.0 respectivamente.

Para más detalles sobre las licencias o usos adicionales, consultar:
- Licencia MIT: https://opensource.org/licenses/MIT
- CC BY 4.0: https://creativecommons.org/licenses/by/4.0/deed.es
