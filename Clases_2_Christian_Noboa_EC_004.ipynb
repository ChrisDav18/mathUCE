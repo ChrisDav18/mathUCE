{
  "nbformat": 4,
  "nbformat_minor": 0,
  "metadata": {
    "colab": {
      "provenance": [],
      "toc_visible": true,
      "authorship_tag": "ABX9TyNOojmlBQEKLLKRMcFalfsi",
      "include_colab_link": true
    },
    "kernelspec": {
      "name": "python3",
      "display_name": "Python 3"
    },
    "language_info": {
      "name": "python"
    }
  },
  "cells": [
    {
      "cell_type": "markdown",
      "metadata": {
        "id": "view-in-github",
        "colab_type": "text"
      },
      "source": [
        "<a href=\"https://colab.research.google.com/github/ChrisDav18/mathUCE/blob/main/Clases_2_Christian_Noboa_EC_004.ipynb\" target=\"_parent\"><img src=\"https://colab.research.google.com/assets/colab-badge.svg\" alt=\"Open In Colab\"/></a>"
      ]
    },
    {
      "cell_type": "markdown",
      "source": [
        "#Algoritmos y Sistemas Numéricos🖥️\n",
        "\n",
        "Debemos tener una idea clara de que es lo que programamos.\n",
        "\n",
        "**Algoritmo de programación:** Conjunto ordenado de pasos que son finitos con el fin de resolver un problema.\n",
        "\n",
        "Se dividen en:\n",
        "\n",
        "·**Algoritmos no computacionales📅**: Todo el tiempo lo hacemos.\n",
        "\n",
        "·**Algoritmos computacionales**💻: Son los códigos que van directamente en las computadoras, ya que estas, no piensan, sino que funcionan mediante instrucciones que nosotros le damos.\n",
        "\n",
        "Utilizamos un diagrama de flujo para organizar los procesos que haremos para llegar a un objetivo en concreto.\n",
        "\n",
        "Los principales codigos son:\n",
        "\n",
        "·Inicio🚀\n",
        "\n",
        "·Leer📖\n",
        "\n",
        "·Escribir📝\n",
        "\n"
      ],
      "metadata": {
        "id": "c_HYGZQ6BmAC"
      }
    },
    {
      "cell_type": "markdown",
      "source": [
        "#Estructura de Entrada, Proceso y Salida (E/P/S)📥🔄📤\n",
        "Nos facilita la interacción eficiente de datos entre un usuario y su sistema computacional y el procesamiento de datos. En la salida se usan textos para añadir un contexto a los datos.\n",
        "\n",
        "**Las fases de las cuales se compone son:**\n",
        "\n",
        "-Entrada📥: Encargado de recopilar datos de un usuario o de otros sistemas para procesarlos.\n",
        "\n",
        "-Proceso🔄: Encargado de realizar los cálculos o transformaciones lógicas sobre los datos ingresados, se utiliza el signo de asignación: \"<-\"\n",
        "\n",
        "-Salida📤: Encargado de devolver los resultados del procesamiento al usuario.\n",
        "\n",
        "#Como localizar rapidamente un número en una lista extensa?\n",
        "Para localizar un número en una lista extensa existen 2 tipos de busqueda:\n",
        "\n",
        "-**Busqueda lineal**🔍\n",
        "\n",
        "La que implica revisar cada elemento de uno en uno hasta encontrar el objetivo, sin embargo es ineficiente cuando tiene listas grandes por ejemplo contar del 1 al 100 o hasta el 1000 o hasta 1 millon. lo que seria n= 100, 1000 o 1000000.\n",
        "\n",
        "-**Busqueda Binaria**🔍\n",
        "\n",
        "Implica dividir el conjunto de datos a la mitad, lo que reduce el número de comparaciones necesarias, especialmente en grandes conjuntos. Utilizamos $log2(n)$ para poder comprenderlo mejor.\n",
        "\n",
        "Para que funcione este metodo debe tener un ordenamiento, por lo que apreciamos, la busqueda binaria es mas efectiva que la busqueda lineal debido a que reduce el número de pasos que son necesarios de una manera logaritmica a medida que se aumenta el conjunto de datos. Esta busqueda se la aplica para situaciones donde existe un rendimiento y escalabilidad, como pueden ser las bases de datos y los motores de búsqueda como Google Chrome.\n",
        "\n",
        "#Teoria de la información\n",
        "\n",
        "La manera para calcular la información es esta: $Σpilog2 (1/pi)$ y en la cual se logra unificar todos los medios de comunicación.\n",
        "\n",
        "A veces tendremos un sin número de respuestas al hacer una pregunta pero debemos tener una idea mental de las posibles respuestas, Shanon pensaba que la información de un mensaje se debe medir por el número de preguntas de si o no que permiten averiguar su contenido y a cada respuesta lo llama bit.\n",
        "\n",
        "Para conseguir información mediante preguntas, debemos hacer que las preguntas dividan a la mitad al grupo hasta llegar a la respuesta deseada, y para saber cuantas veces podemos dividir en 2, usamos: $log2(x)$.🤔\n",
        "\n",
        "\n",
        "\n",
        "\n"
      ],
      "metadata": {
        "id": "qEWheyDyFkc2"
      }
    },
    {
      "cell_type": "markdown",
      "source": [
        "# Sistemas Numéricos🔢\n",
        "\n",
        "N= {0,1,2,3...} (incluyen el cero) y para cada elemento n puede existir un n+1\n",
        "\n",
        "Se componen de 2 estructuras:\n",
        "\n",
        "**Estructura de orden📊:** Nos permite saber que número es más grande que otro.(N,≤) conjunto ordenado $∀a,b∈N, a≤b o a>b$\n",
        "\n",
        "**Estructura algebraica🧮:** Nos permite resolver problemas, como los de conteo. $∀a,b∈N, ∃c∈N, tq  c= a+b$\n",
        "\n",
        "Ejemplo del profe para explicar una revolución matemática:\n",
        "\n",
        "$a+?=b$\n",
        "\n",
        "$20+?= 50$\n",
        "\n",
        "$50+? =20$\n",
        "\n",
        "Aunque las 2 ecuaciones se vean similares, esto plantea el origen de los números negativos.\n",
        "\n",
        "La forma general es🤔:\n",
        "\n",
        "Sea $n∈N$ considere  $n+?=0$\n",
        "\n",
        "Moraleja: Para resolver problemas más complejos debemos abrir nuevos horizontes de conjuntos de números. Para ello empezamos con los metodos de Simetrización:\n",
        "\n",
        "**Con respecto a la suma**➕: Resolver las operaciones como $n+?=0$ lo cual da $n+(-n)=0$, esto es debido a que en la antiguedad solo se usaban números positivos y ahora apartir del 0 creamos números simétricos como -1,-2,-3...\n",
        "\n",
        "**Con respecto a la multiplicación**✖️: $∀a,b∈N, ∃cN tq c= ab$, con ello nos permite resolver problemas aritmeticos de la forma $a?=1$ -> $1/x$. Esto nos dice que para resolver los problemas más complejos, necesitamos números más grandes que los naturales.\n",
        "\n",
        "De ello sigue la creacion del conjunto de los racionales $ℚ$:\n",
        "\n",
        "\n",
        "$ℚ= {n/m: n ∈ Z, m ∈ N}$\n",
        "\n",
        "Como se incluye con los naturales se puede resolver todos los problemas que se resuelven en los naturales, ademas como se integra los enteros relativos, podemos resolver los problemas de resta y los problemas de multiplicación.\n",
        "Pero hay problemas que no se pueden resolver con los racionales.\n",
        "Aqui nace la potenciación.\n",
        "\n",
        "Partimos del ejemplo que ahora ya no queremos multiplicar $2x=10$, sino, multiplicar $x*x=10$ por lo que se crea un $x^2=10$, esto no es más que la potenciación que se resuelve de maneras específicas como por ejemplo:\n",
        "\n",
        "$x^2= 25$ esta da 2 respuestas, $x=-5$ y $x=5$\n",
        "\n",
        "No solamente se resuelve dentro de los números racionales, sino que tambien se crean los irracionales, lo que construye el conjunto de los números Reales $ℝ$ como por ejemplo:\n",
        "\n",
        "$x^2+1=0$\n",
        "\n",
        "$x^2=-1$\n",
        "\n",
        "Esto nos da paso a la conpcepción de los números imaginarios.\n",
        "A la $√-1$ se la comienza a llamar como \"$i$\" osea, imaginario, lo que da a la creación de un superconjunto que agrupa a todos los demás conjuntos llamado los **Números Complejos** $C$.\n"
      ],
      "metadata": {
        "id": "EHs4Q0iQ7Sem"
      }
    },
    {
      "cell_type": "code",
      "source": [
        "from IPython.display import Image\n",
        "url = 'https://concepto.de/wp-content/uploads/2022/10/conjuntos-de-nu%CC%81meros.jpg'\n",
        "display(Image(url=url))"
      ],
      "metadata": {
        "colab": {
          "base_uri": "https://localhost:8080/",
          "height": 524
        },
        "id": "zLPnLKtknNhT",
        "outputId": "71a9b72e-dcf3-4bd6-f4a9-ce5a998d4482"
      },
      "execution_count": null,
      "outputs": [
        {
          "output_type": "display_data",
          "data": {
            "text/html": [
              "<img src=\"https://concepto.de/wp-content/uploads/2022/10/conjuntos-de-nu%CC%81meros.jpg\"/>"
            ],
            "text/plain": [
              "<IPython.core.display.Image object>"
            ]
          },
          "metadata": {}
        }
      ]
    },
    {
      "cell_type": "markdown",
      "source": [
        "## Referencias y Licencias\n",
        "\n",
        "Este trabajo utiliza material del curso \"Matemáticas y Programación para Ciencias Sociales\" de FLACSO Ecuador.\n",
        "\n",
        "Pérez, F. (2024). Matemáticas y Programación para Ciencias Sociales. FLACSO Ecuador.\n",
        "- Repositorio GitHub: https://github.com/franperezec/math (Licencia MIT)\n",
        "- Canal de YouTube: https://www.youtube.com/@FranciscoPerezMatematicas (CC BY 4.0)\n",
        "\n",
        "Al utilizar este material, acepto cumplir con los términos de las licencias MIT y Creative Commons BY 4.0 respectivamente.\n",
        "\n",
        "Para más detalles sobre las licencias o usos adicionales, consultar:\n",
        "- Licencia MIT: https://opensource.org/licenses/MIT\n",
        "- CC BY 4.0: https://creativecommons.org/licenses/by/4.0/deed.es\n"
      ],
      "metadata": {
        "id": "ezoRqJ8MYUCL"
      }
    }
  ]
}